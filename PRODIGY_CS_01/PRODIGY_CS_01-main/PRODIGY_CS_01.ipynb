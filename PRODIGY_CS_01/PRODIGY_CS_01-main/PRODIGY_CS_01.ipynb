{
  "nbformat": 4,
  "nbformat_minor": 0,
  "metadata": {
    "colab": {
      "provenance": []
    },
    "kernelspec": {
      "name": "python3",
      "display_name": "Python 3"
    },
    "language_info": {
      "name": "python"
    }
  },
  "cells": [
    {
      "cell_type": "code",
      "execution_count": 18,
      "metadata": {
        "colab": {
          "base_uri": "https://localhost:8080/"
        },
        "id": "0bv3sIOZ-hs-",
        "outputId": "844b7765-51ab-4bf4-c709-67a014bd33c2"
      },
      "outputs": [
        {
          "output_type": "stream",
          "name": "stdout",
          "text": [
            "Enter the message: Hello Prodigy \n",
            "Enter the shift value: 12\n",
            "Encrypted message:  Tqxxa Bdapusk \n",
            "Decrypted message:  Hello Prodigy \n"
          ]
        }
      ],
      "source": [
        "def main():\n",
        "  message = input(\"Enter the message: \")\n",
        "  shift = int(input(\"Enter the shift value: \"))\n",
        "\n",
        "  #Encrypted message\n",
        "  encrypted_message = caesar_cipher(message, shift)\n",
        "  print(\"Encrypted message: \", encrypted_message)\n",
        "\n",
        "  #Decrypted message\n",
        "  decrypted_message = caesar_cipher(encrypted_message, -shift)\n",
        "  print(\"Decrypted message: \", decrypted_message)\n",
        "\n",
        "def caesar_cipher(text, shift):\n",
        "  result = \"\"\n",
        "  for char in text:\n",
        "      if char.isalpha():\n",
        "        is_upper = char.isupper()\n",
        "        shifted_char = chr((ord(char) - ord('A' if is_upper else 'a') + shift) % 26 + ord('A' if is_upper else 'a'))\n",
        "        result += shifted_char\n",
        "      else:\n",
        "        result += char\n",
        "  return result\n",
        "if __name__ == \"__main__\":\n",
        "      main()"
      ]
    }
  ]
}